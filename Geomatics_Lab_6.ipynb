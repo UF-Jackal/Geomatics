{
 "cells": [
  {
   "cell_type": "markdown",
   "id": "8f03359b-3913-48f6-a7f5-c4dc86c8000b",
   "metadata": {},
   "source": [
    "####Jack Trahan\n",
    "####Geomatics SUR"
   ]
  },
  {
   "cell_type": "code",
   "execution_count": 4,
   "id": "e114993f-23d8-4c4a-a58c-571e160b93b4",
   "metadata": {},
   "outputs": [],
   "source": [
    "import numpy"
   ]
  },
  {
   "cell_type": "code",
   "execution_count": 5,
   "id": "9af28a81-a77e-4a39-b89e-8418e286501f",
   "metadata": {},
   "outputs": [],
   "source": [
    "#Convert Degrees-Minutes-Seconds to Deciaml Degrees\n",
    "def dms_to_dd(dms_string: str) -> float:\n",
    "    dms = numpy.fromstring(dms_string, dtype=float, count=3, sep='-')\n",
    "    degrees = dms[0]\n",
    "    minutes = dms[1]\n",
    "    seconds = dms[2]\n",
    "\n",
    "    decimal_degrees = degrees + minutes/60 + seconds/3600\n",
    "   \n",
    "    return decimal_degrees"
   ]
  },
  {
   "cell_type": "code",
   "execution_count": 6,
   "id": "9d77717e-10f8-4f6f-ad12-94ef3e570722",
   "metadata": {},
   "outputs": [
    {
     "data": {
      "text/plain": [
       "180.2277777777778"
      ]
     },
     "execution_count": 6,
     "metadata": {},
     "output_type": "execute_result"
    }
   ],
   "source": [
    "dms_to_dd(\"180-13-40\")"
   ]
  },
  {
   "cell_type": "code",
   "execution_count": null,
   "id": "acf52934-034c-48b2-a14c-a07ecb1c47e1",
   "metadata": {},
   "outputs": [],
   "source": []
  }
 ],
 "metadata": {
  "kernelspec": {
   "display_name": "Python 3 (ipykernel)",
   "language": "python",
   "name": "python3"
  },
  "language_info": {
   "codemirror_mode": {
    "name": "ipython",
    "version": 3
   },
   "file_extension": ".py",
   "mimetype": "text/x-python",
   "name": "python",
   "nbconvert_exporter": "python",
   "pygments_lexer": "ipython3",
   "version": "3.12.7"
  }
 },
 "nbformat": 4,
 "nbformat_minor": 5
}
