{
 "cells": [
  {
   "cell_type": "code",
   "execution_count": 1,
   "id": "a42b5a89-2828-4757-b5be-13c24465c533",
   "metadata": {},
   "outputs": [],
   "source": [
    "import numpy"
   ]
  },
  {
   "cell_type": "code",
   "execution_count": 2,
   "id": "0b7a0d2b-1630-404e-beb7-4e9f322bed5b",
   "metadata": {},
   "outputs": [],
   "source": [
    "#Convert Degrees-Minutes-Seconds to Deciaml Degrees\n",
    "def dms_to_dd(dms_string: str) -> float:\n",
    "    dms = numpy.fromstring(dms_string, dtype=float, count=3, sep='-')\n",
    "    degrees = dms[0]\n",
    "    minutes = dms[1]\n",
    "    seconds = dms[2]\n",
    "\n",
    "    decimal_degrees = degrees + minutes/60 + seconds/3600\n",
    "   \n",
    "    return decimal_degrees"
   ]
  },
  {
   "cell_type": "code",
   "execution_count": 3,
   "id": "9074c560-c750-4d88-809d-ee341ca99c80",
   "metadata": {},
   "outputs": [
    {
     "name": "stdout",
     "output_type": "stream",
     "text": [
      "test change git detection\n"
     ]
    }
   ],
   "source": [
    "print(\"test change git detection\")"
   ]
  },
  {
   "cell_type": "code",
   "execution_count": null,
   "id": "db625eb0-83a3-4dc2-971c-09f8426e98ad",
   "metadata": {},
   "outputs": [],
   "source": []
  }
 ],
 "metadata": {
  "kernelspec": {
   "display_name": "Python 3 (ipykernel)",
   "language": "python",
   "name": "python3"
  },
  "language_info": {
   "codemirror_mode": {
    "name": "ipython",
    "version": 3
   },
   "file_extension": ".py",
   "mimetype": "text/x-python",
   "name": "python",
   "nbconvert_exporter": "python",
   "pygments_lexer": "ipython3",
   "version": "3.12.7"
  }
 },
 "nbformat": 4,
 "nbformat_minor": 5
}
