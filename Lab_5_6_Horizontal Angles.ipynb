{
 "cells": [
  {
   "cell_type": "markdown",
   "id": "7846b768-6eea-4a43-bbde-4c43afd32b3c",
   "metadata": {},
   "source": [
    "#Jack Trahan\\\n",
    "\n",
    "#SUR3103C Geomatics\\\n",
    "\n",
    "#Lab 5 \\& 6 - Horizontal Angle Measurements"
   ]
  },
  {
   "cell_type": "code",
   "execution_count": 1,
   "id": "a42b5a89-2828-4757-b5be-13c24465c533",
   "metadata": {},
   "outputs": [],
   "source": [
    "import numpy\n",
    "import pandas as pd"
   ]
  },
  {
   "cell_type": "code",
   "execution_count": 2,
   "id": "0b7a0d2b-1630-404e-beb7-4e9f322bed5b",
   "metadata": {},
   "outputs": [],
   "source": [
    "#Convert Degrees-Minutes-Seconds to Deciaml Degrees\n",
    "def dms_to_dd(dms_string: str) -> float:\n",
    "    #Split DMS string by the hyphen separator\n",
    "    dms_parts = dms_string.split('-')\n",
    "\n",
    "    degrees = float(dms_parts[0])\n",
    "    minutes = float(dms_parts[1])\n",
    "    seconds = float(dms_parts[2])\n",
    "\n",
    "    decimal_degrees = degrees + minutes/60 + seconds/3600\n",
    "   \n",
    "    return decimal_degrees"
   ]
  },
  {
   "cell_type": "markdown",
   "id": "53d39cae-a0fc-4f66-a67a-3f1111aa456c",
   "metadata": {},
   "source": [
    "First we need to input our Field Data. For this we will use Pandas Dataframes"
   ]
  },
  {
   "cell_type": "code",
   "execution_count": 3,
   "id": "9a6d9dd4-a647-4c83-8e65-1379987cdb36",
   "metadata": {},
   "outputs": [
    {
     "data": {
      "text/html": [
       "<div>\n",
       "<style scoped>\n",
       "    .dataframe tbody tr th:only-of-type {\n",
       "        vertical-align: middle;\n",
       "    }\n",
       "\n",
       "    .dataframe tbody tr th {\n",
       "        vertical-align: top;\n",
       "    }\n",
       "\n",
       "    .dataframe thead th {\n",
       "        text-align: right;\n",
       "    }\n",
       "</style>\n",
       "<table border=\"1\" class=\"dataframe\">\n",
       "  <thead>\n",
       "    <tr style=\"text-align: right;\">\n",
       "      <th></th>\n",
       "      <th>Reverse</th>\n",
       "      <th>Direct</th>\n",
       "    </tr>\n",
       "    <tr>\n",
       "      <th>Angle</th>\n",
       "      <th></th>\n",
       "      <th></th>\n",
       "    </tr>\n",
       "  </thead>\n",
       "  <tbody>\n",
       "    <tr>\n",
       "      <th>YBI</th>\n",
       "      <td>232-02-38</td>\n",
       "      <td>52-02-40</td>\n",
       "    </tr>\n",
       "    <tr>\n",
       "      <th>YBL</th>\n",
       "      <td>256-58-24</td>\n",
       "      <td>76-58-16</td>\n",
       "    </tr>\n",
       "    <tr>\n",
       "      <th>IYL</th>\n",
       "      <td>212-47-53</td>\n",
       "      <td>32-47-25</td>\n",
       "    </tr>\n",
       "    <tr>\n",
       "      <th>IYB</th>\n",
       "      <td>274-10-48</td>\n",
       "      <td>94-11-00</td>\n",
       "    </tr>\n",
       "    <tr>\n",
       "      <th>LIB</th>\n",
       "      <td>223-04-52</td>\n",
       "      <td>43-04-20</td>\n",
       "    </tr>\n",
       "    <tr>\n",
       "      <th>LIY</th>\n",
       "      <td>256-52-21</td>\n",
       "      <td>76-52-15</td>\n",
       "    </tr>\n",
       "    <tr>\n",
       "      <th>BLY</th>\n",
       "      <td>221-38-36</td>\n",
       "      <td>41-38-33</td>\n",
       "    </tr>\n",
       "    <tr>\n",
       "      <th>BLI</th>\n",
       "      <td>291-58-50</td>\n",
       "      <td>111-58-51</td>\n",
       "    </tr>\n",
       "  </tbody>\n",
       "</table>\n",
       "</div>"
      ],
      "text/plain": [
       "         Reverse     Direct\n",
       "Angle                      \n",
       "YBI    232-02-38   52-02-40\n",
       "YBL    256-58-24   76-58-16\n",
       "IYL    212-47-53   32-47-25\n",
       "IYB    274-10-48   94-11-00\n",
       "LIB    223-04-52   43-04-20\n",
       "LIY    256-52-21   76-52-15\n",
       "BLY    221-38-36   41-38-33\n",
       "BLI    291-58-50  111-58-51"
      ]
     },
     "execution_count": 3,
     "metadata": {},
     "output_type": "execute_result"
    }
   ],
   "source": [
    "field_data = {\n",
    "    \"Angle\": [\"YBI\", \"YBL\", \"IYL\", \"IYB\", \"LIB\", \"LIY\", \"BLY\", \"BLI\"],\n",
    "    \"Reverse\": [\"232-02-38\", \"256-58-24\", \"212-47-53\", \"274-10-48\", \n",
    "                \"223-04-52\", \"256-52-21\", \"221-38-36\", \"291-58-50\"],\n",
    "    \"Direct\": [\"52-02-40\", \"76-58-16\", \"32-47-25\", \"94-11-00\",\n",
    "               \"43-04-20\", \"76-52-15\", \"41-38-33\", \"111-58-51\"],\n",
    "}\n",
    "df = pd.DataFrame(field_data)\n",
    "df.set_index('Angle', inplace=True)\n",
    "df"
   ]
  },
  {
   "cell_type": "markdown",
   "id": "ecfe78f9-a354-4e55-8c1e-64d38657a2fb",
   "metadata": {},
   "source": [
    "Convert our field_data (str) to decimal degrees (float):"
   ]
  },
  {
   "cell_type": "code",
   "execution_count": 4,
   "id": "d4e53547-ec77-4170-8f1e-acc47bf92e2c",
   "metadata": {},
   "outputs": [
    {
     "data": {
      "text/html": [
       "<div>\n",
       "<style scoped>\n",
       "    .dataframe tbody tr th:only-of-type {\n",
       "        vertical-align: middle;\n",
       "    }\n",
       "\n",
       "    .dataframe tbody tr th {\n",
       "        vertical-align: top;\n",
       "    }\n",
       "\n",
       "    .dataframe thead th {\n",
       "        text-align: right;\n",
       "    }\n",
       "</style>\n",
       "<table border=\"1\" class=\"dataframe\">\n",
       "  <thead>\n",
       "    <tr style=\"text-align: right;\">\n",
       "      <th></th>\n",
       "      <th>Reverse</th>\n",
       "      <th>Direct</th>\n",
       "    </tr>\n",
       "    <tr>\n",
       "      <th>Angle</th>\n",
       "      <th></th>\n",
       "      <th></th>\n",
       "    </tr>\n",
       "  </thead>\n",
       "  <tbody>\n",
       "    <tr>\n",
       "      <th>YBI</th>\n",
       "      <td>52.043889</td>\n",
       "      <td>52.044444</td>\n",
       "    </tr>\n",
       "    <tr>\n",
       "      <th>YBL</th>\n",
       "      <td>76.973333</td>\n",
       "      <td>76.971111</td>\n",
       "    </tr>\n",
       "    <tr>\n",
       "      <th>IYL</th>\n",
       "      <td>32.798056</td>\n",
       "      <td>32.790278</td>\n",
       "    </tr>\n",
       "    <tr>\n",
       "      <th>IYB</th>\n",
       "      <td>94.180000</td>\n",
       "      <td>94.183333</td>\n",
       "    </tr>\n",
       "    <tr>\n",
       "      <th>LIB</th>\n",
       "      <td>43.081111</td>\n",
       "      <td>43.072222</td>\n",
       "    </tr>\n",
       "    <tr>\n",
       "      <th>LIY</th>\n",
       "      <td>76.872500</td>\n",
       "      <td>76.870833</td>\n",
       "    </tr>\n",
       "    <tr>\n",
       "      <th>BLY</th>\n",
       "      <td>41.643333</td>\n",
       "      <td>41.642500</td>\n",
       "    </tr>\n",
       "    <tr>\n",
       "      <th>BLI</th>\n",
       "      <td>111.980556</td>\n",
       "      <td>111.980833</td>\n",
       "    </tr>\n",
       "  </tbody>\n",
       "</table>\n",
       "</div>"
      ],
      "text/plain": [
       "          Reverse      Direct\n",
       "Angle                        \n",
       "YBI     52.043889   52.044444\n",
       "YBL     76.973333   76.971111\n",
       "IYL     32.798056   32.790278\n",
       "IYB     94.180000   94.183333\n",
       "LIB     43.081111   43.072222\n",
       "LIY     76.872500   76.870833\n",
       "BLY     41.643333   41.642500\n",
       "BLI    111.980556  111.980833"
      ]
     },
     "execution_count": 4,
     "metadata": {},
     "output_type": "execute_result"
    }
   ],
   "source": [
    "# Apply the conversion to the 'Reverse' and 'Direct' columns\n",
    "df['Reverse'] = df['Reverse'].apply(dms_to_dd)-180\n",
    "df['Direct'] = df['Direct'].apply(dms_to_dd)\n",
    "df"
   ]
  },
  {
   "cell_type": "markdown",
   "id": "cf734309-18f5-45a0-994e-f67372338197",
   "metadata": {},
   "source": [
    "Create a new DataFrame containing the our Mean Angle measurments"
   ]
  },
  {
   "cell_type": "code",
   "execution_count": 12,
   "id": "1464a406-691d-439e-9ce4-abf393d6ae3d",
   "metadata": {},
   "outputs": [],
   "source": [
    "df[\"Mean\"] = (df[\"Reverse\"] + df[\"Direct\"])/2\n",
    "df_angles = df[['Mean']].copy()\n",
    "df_angles.columns = ['Measured']\n"
   ]
  },
  {
   "attachments": {},
   "cell_type": "markdown",
   "id": "8fb9351d-de2f-4a07-913b-cf2433e1ab48",
   "metadata": {},
   "source": [
    "Add the inner angles"
   ]
  },
  {
   "attachments": {
    "bd8442b7-5376-4bf3-9c90-7260eb3353a1.png": {
     "image/png": "[encoded data removed]"
    }
   },
   "cell_type": "markdown",
   "id": "b93308bc-67de-49b9-a427-d381c54841d0",
   "metadata": {},
   "source": [
    "![image.png](attachment:bd8442b7-5376-4bf3-9c90-7260eb3353a1.png)"
   ]
  },
  {
   "cell_type": "code",
   "execution_count": null,
   "id": "7e93e1e8-cf64-423f-843f-d52f36773ffd",
   "metadata": {},
   "outputs": [],
   "source": []
  }
 ],
 "metadata": {
  "kernelspec": {
   "display_name": "Python 3 (ipykernel)",
   "language": "python",
   "name": "python3"
  },
  "language_info": {
   "codemirror_mode": {
    "name": "ipython",
    "version": 3
   },
   "file_extension": ".py",
   "mimetype": "text/x-python",
   "name": "python",
   "nbconvert_exporter": "python",
   "pygments_lexer": "ipython3",
   "version": "3.12.7"
  }
 },
 "nbformat": 4,
 "nbformat_minor": 5
}
